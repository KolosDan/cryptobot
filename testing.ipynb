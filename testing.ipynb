{
 "cells": [
  {
   "cell_type": "code",
   "execution_count": 2,
   "metadata": {},
   "outputs": [],
   "source": [
    "from pymongo import MongoClient\n",
    "import requests\n",
    "import datetime\n",
    "from web3.utils import validation\n",
    "import re\n",
    "from phonenumbers import parse, is_valid_number\n",
    "from web3 import Web3, HTTPProvider\n",
    "import time\n",
    "import rlp\n",
    "from ethereum.transactions import Transaction"
   ]
  },
  {
   "cell_type": "code",
   "execution_count": 3,
   "metadata": {},
   "outputs": [],
   "source": [
    "db = MongoClient('213.183.48.143').cryptobot\n",
    "w3 = Web3(HTTPProvider('https://ropsten.infura.io/xSb0KCuTom59NVjS446D'))"
   ]
  },
  {
   "cell_type": "code",
   "execution_count": 4,
   "metadata": {},
   "outputs": [],
   "source": [
    "def create_user(_id, username):\n",
    "    if db.user.find_one({\"username\":username}) == None:\n",
    "        user = {}\n",
    "        user['id'] = _id\n",
    "        user['username'] = username\n",
    "        user['eth_addr'] = None\n",
    "        user['email'] = None\n",
    "        user['phone'] = None\n",
    "        user['is_expert'] = False\n",
    "        user['is_admin'] = False\n",
    "        user['balance'] = 0.0\n",
    "        user['operations'] = [{'timestamp' : str(datetime.datetime.now()),\n",
    "                              'op':'create_user'}]\n",
    "        user['deposit_addr'] = requests.post('https://api.blockcypher.com/v1/eth/main/addrs').json()\n",
    "\n",
    "        return db.user.insert_one(user)"
   ]
  },
  {
   "cell_type": "code",
   "execution_count": 5,
   "metadata": {},
   "outputs": [],
   "source": [
    "def _update(_id,field, upd):\n",
    "    if field == 'eth_addr':\n",
    "        if validation.is_0x_prefixed(upd) and validation.is_address(upd) and len(upd) == 42:\n",
    "            return db.user.update({'id':_id},{'$set':{'eth_addr': upd}})\n",
    "        else:\n",
    "            return False\n",
    "    elif field == 'email':\n",
    "        if re.match(r\"[^@]+@[^@]+\\.[^@]+\", upd):\n",
    "            return db.user.update({'id':_id},{'$set':{'email': upd}})\n",
    "        else:\n",
    "            return False\n",
    "    elif field == 'phone':\n",
    "        try:\n",
    "            if is_valid_number(parse(upd)):\n",
    "                return db.user.update({'id':_id},{'$set':{'phone': upd}})\n",
    "            else:\n",
    "                return False\n",
    "        except:\n",
    "            return False"
   ]
  },
  {
   "cell_type": "code",
   "execution_count": 6,
   "metadata": {},
   "outputs": [],
   "source": [
    "def create_ico(name, description):\n",
    "    if name not in [item['ico'] for item in db.ico.find()]:\n",
    "        return db.ico.insert_one({'ico' :name, \n",
    "                      'address' : requests.post('https://api.blockcypher.com/v1/eth/main/addrs').json(),\n",
    "                      'description' : description,\n",
    "                      'contributors' : [],\n",
    "                             'locked':True})\n",
    "    else:\n",
    "        return False"
   ]
  },
  {
   "cell_type": "code",
   "execution_count": 7,
   "metadata": {},
   "outputs": [],
   "source": [
    "def change_lock(name):\n",
    "    if db.ico.find_one({'ico': name})['locked'] == False:\n",
    "        print('ICO locked')\n",
    "        return db.ico.update_one({'ico': name}, {'$set':{'locked': True}})\n",
    "    else:\n",
    "        return db.ico.update_one({'ico': name}, {'$set':{'locked': False}})\n",
    "        print('ICO unlocked')"
   ]
  },
  {
   "cell_type": "code",
   "execution_count": 8,
   "metadata": {},
   "outputs": [],
   "source": [
    "def get_balance(_id):\n",
    "    balance = w3.eth.getBalance('0x' + db.user.find_one({'id':_id})['deposit_addr']['address'])/1000000000000000000\n",
    "    db.user.update_one({'id':_id}, {'$set':{'balance': balance}})\n",
    "    return balance"
   ]
  },
  {
   "cell_type": "code",
   "execution_count": 9,
   "metadata": {},
   "outputs": [],
   "source": [
    "def tx(from_addr, to_addr, signature, eth_value):\n",
    "    try:\n",
    "        est_fee = w3.eth.estimateGas({'to':to_addr, 'from': from_addr, 'value': int(eth_value*1000000000000000000)}) * w3.eth.gasPrice\n",
    "        tx = Transaction(nonce= w3.eth.getTransactionCount(from_addr),\n",
    "                            gasprice= w3.eth.gasPrice,\n",
    "                            startgas= 21000,\n",
    "                            to= to_addr,\n",
    "                            value= int((eth_value * 1000000000000000000) - est_fee),\n",
    "                            data = b'')\n",
    "\n",
    "        tx.sign(signature)\n",
    "        raw_tx = rlp.encode(tx)\n",
    "        raw_tx_hex = w3.toHex(raw_tx)\n",
    "        return w3.eth.sendRawTransaction(raw_tx_hex)\n",
    "    except:\n",
    "        return False"
   ]
  },
  {
   "cell_type": "code",
   "execution_count": 10,
   "metadata": {},
   "outputs": [],
   "source": [
    "def contribute(_id, ico, eth_value):\n",
    "    if get_balance(_id) >= eth_value:\n",
    "        to_addr = '0x' + db.ico.find_one({'ico':ico})['address']['address']\n",
    "        signature = '0x' + db.user.find_one({'id':_id})['deposit_addr']['private']\n",
    "        from_addr = '0x' + db.user.find_one({'id':_id})['deposit_addr']['address']\n",
    "        tx_hash = tx(from_addr, to_addr, signature, eth_value)\n",
    "        log = db.user.find_one({'id':_id})['operations']\n",
    "        log.append({'timestamp':str(datetime.datetime.now()),\n",
    "                   'op': 'contribute',\n",
    "                   'ico': ico,\n",
    "                   'eth':eth_value,\n",
    "                   'tx_hash':tx_hash})\n",
    "        db.user.update_one({'id':_id}, {'$set':{'operations':log}})\n",
    "        return tx_hash\n",
    "    else:\n",
    "        return False"
   ]
  },
  {
   "cell_type": "code",
   "execution_count": 11,
   "metadata": {},
   "outputs": [],
   "source": [
    "def get_deposit_addr(_id):\n",
    "    return '0x' + db.user.find_one({'id':_id})['deposit_addr']['address']"
   ]
  },
  {
   "cell_type": "code",
   "execution_count": 12,
   "metadata": {},
   "outputs": [],
   "source": [
    "def add_expert(addr):\n",
    "    if db.expert.find_one({'name': 'expert_wallet'}) == None:\n",
    "        if validation.is_0x_prefixed(addr) and validation.is_address(addr) and len(addr) == 42:\n",
    "            return db.expert.insert_one({'name':'expert_wallet', 'addr': addr})\n",
    "        else:\n",
    "            return False\n",
    "    else:\n",
    "        return False"
   ]
  },
  {
   "cell_type": "code",
   "execution_count": 13,
   "metadata": {},
   "outputs": [],
   "source": [
    "def update_expert(addr):\n",
    "    if validation.is_0x_prefixed(addr) and validation.is_address(addr) and len(addr) == 42:\n",
    "        return db.expert.update_one({'name': 'expert_wallet'}, {'$set':{'addr': addr}})\n",
    "    else:\n",
    "        return False"
   ]
  },
  {
   "cell_type": "code",
   "execution_count": 14,
   "metadata": {},
   "outputs": [],
   "source": [
    "def get_expert(_id, length):\n",
    "    signature = '0x' + db.user.find_one({'id':_id})['deposit_addr']['private']\n",
    "    from_addr = '0x' + db.user.find_one({'id':_id})['deposit_addr']['address']\n",
    "    \n",
    "    to_addr = db.expert.find_one({'name':'expert_wallet'})['addr']\n",
    "    \n",
    "    if length == 'month':\n",
    "        eth_value = 0.3\n",
    "        time = str(datetime.date.today() + datetime.timedelta(days=31))\n",
    "    elif length == '3month':\n",
    "        eth_value = 0.7\n",
    "        time = str(datetime.date.today() + datetime.timedelta(days=93))\n",
    "    elif length == 'year':\n",
    "        eth_value = 1.5\n",
    "        time = str(datetime.date.today() + datetime.timedelta(days=365))\n",
    "    elif length == 'forever':\n",
    "        eth_value = 2.5\n",
    "        time = 'forever'\n",
    "        \n",
    "    if get_balance(_id) >= eth_value:\n",
    "        tx_hash = tx(from_addr, to_addr, signature, eth_value)\n",
    "        db.user.update_one({'id':_id}, {'$set':{'is_expert': time}})\n",
    "        log = db.user.find_one({'id':_id})['operations']\n",
    "        log.append({'timestamp':str(datetime.datetime.now()),\n",
    "                    'op': 'expert',\n",
    "                    'length':length,\n",
    "                   'tx_hash':tx_hash})\n",
    "        \n",
    "        return tx_hash\n",
    "    else:\n",
    "        return False"
   ]
  },
  {
   "cell_type": "code",
   "execution_count": 15,
   "metadata": {},
   "outputs": [],
   "source": [
    "def get_ico_money(ico):\n",
    "    return w3.eth.getBalance('0x' + db.ico.find_one({'ico':ico})['address']['address'])/10000000000000000000"
   ]
  },
  {
   "cell_type": "code",
   "execution_count": 16,
   "metadata": {},
   "outputs": [],
   "source": [
    "def transfer_from_ico(ico, to_addr, eth_value):\n",
    "    signature = '0x' + db.ico.find_one({'ico':ico})['address']['private']\n",
    "    from_addr = '0x' + db.ico.find_one({'ico':ico})['address']['address']\n",
    "    return tx(from_addr, to_addr, signature, eth_value)"
   ]
  },
  {
   "cell_type": "code",
   "execution_count": 17,
   "metadata": {},
   "outputs": [],
   "source": [
    "def get_contributors(ico):\n",
    "    contributions = []\n",
    "    for user in db.user.find():\n",
    "        for op in user['operations']:\n",
    "            if op['op'] == contribute and op['ico'] == 'zhopacoin':\n",
    "                contributions.append((user['username'], user['eth_addr'], op))\n",
    "    return contributions"
   ]
  },
  {
   "cell_type": "code",
   "execution_count": 18,
   "metadata": {},
   "outputs": [],
   "source": [
    "def update_modelb(eth_addr):\n",
    "    return db.ico.update_one({'ico':'modelB'}, {'$set':{'address':{'address':eth_addr}}})"
   ]
  }
 ],
 "metadata": {
  "kernelspec": {
   "display_name": "Python 3",
   "language": "python",
   "name": "python3"
  },
  "language_info": {
   "codemirror_mode": {
    "name": "ipython",
    "version": 3
   },
   "file_extension": ".py",
   "mimetype": "text/x-python",
   "name": "python",
   "nbconvert_exporter": "python",
   "pygments_lexer": "ipython3",
   "version": "3.5.2"
  }
 },
 "nbformat": 4,
 "nbformat_minor": 2
}
