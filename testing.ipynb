{
 "cells": [
  {
   "cell_type": "code",
   "execution_count": 82,
   "metadata": {},
   "outputs": [],
   "source": [
    "from pymongo import MongoClient\n",
    "import requests\n",
    "import datetime"
   ]
  },
  {
   "cell_type": "code",
   "execution_count": 83,
   "metadata": {},
   "outputs": [],
   "source": [
    "db = MongoClient('213.183.48.143').cryptobot"
   ]
  },
  {
   "cell_type": "code",
   "execution_count": 84,
   "metadata": {},
   "outputs": [],
   "source": [
    "def create_user(_id, username):\n",
    "    user = {}\n",
    "    user['id'] = _id\n",
    "    user['username'] = username\n",
    "    user['eth_addr'] = None\n",
    "    user['email'] = None\n",
    "    user['phone'] = None\n",
    "    user['permissions'] = {'is_expert': False, 'is_admin': False}\n",
    "    user['balance'] = 0.0\n",
    "    user['operations'] = ['Created user ' + str(datetime.datetime.now())]\n",
    "    user['deposit_addr'] = requests.post('https://api.blockcypher.com/v1/eth/main/addrs').json()\n",
    "    \n",
    "    return db.user.insert_one(user)"
   ]
  },
  {
   "cell_type": "code",
   "execution_count": null,
   "metadata": {},
   "outputs": [],
   "source": [
    "def update(_id,field, upd):\n",
    "    if field == 'eth_addr'\n",
    "        "
   ]
  },
  {
   "cell_type": "code",
   "execution_count": 85,
   "metadata": {},
   "outputs": [
    {
     "data": {
      "text/plain": [
       "<pymongo.results.InsertOneResult at 0x7ff7dfb30e88>"
      ]
     },
     "execution_count": 85,
     "metadata": {},
     "output_type": "execute_result"
    }
   ],
   "source": []
  },
  {
   "cell_type": "code",
   "execution_count": null,
   "metadata": {},
   "outputs": [],
   "source": []
  }
 ],
 "metadata": {
  "kernelspec": {
   "display_name": "Python 3",
   "language": "python",
   "name": "python3"
  },
  "language_info": {
   "codemirror_mode": {
    "name": "ipython",
    "version": 3
   },
   "file_extension": ".py",
   "mimetype": "text/x-python",
   "name": "python",
   "nbconvert_exporter": "python",
   "pygments_lexer": "ipython3",
   "version": "3.5.2"
  }
 },
 "nbformat": 4,
 "nbformat_minor": 2
}
