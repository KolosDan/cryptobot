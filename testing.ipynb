{
 "cells": [
  {
   "cell_type": "code",
   "execution_count": 121,
   "metadata": {},
   "outputs": [],
   "source": [
    "from pymongo import MongoClient\n",
    "import requests\n",
    "import datetime\n",
    "from web3.utils import validation\n",
    "import re\n",
    "from phonenumbers import parse, is_possible_number"
   ]
  },
  {
   "cell_type": "code",
   "execution_count": 2,
   "metadata": {},
   "outputs": [],
   "source": [
    "db = MongoClient('213.183.48.143').cryptobot"
   ]
  },
  {
   "cell_type": "code",
   "execution_count": 3,
   "metadata": {},
   "outputs": [],
   "source": [
    "def create_user(_id, username):\n",
    "    user = {}\n",
    "    user['id'] = _id\n",
    "    user['username'] = username\n",
    "    user['eth_addr'] = None\n",
    "    user['email'] = None\n",
    "    user['phone'] = None\n",
    "    user['permissions'] = {'is_expert': False, 'is_admin': False}\n",
    "    user['balance'] = 0.0\n",
    "    user['operations'] = ['Created user ' + str(datetime.datetime.now())]\n",
    "    user['deposit_addr'] = requests.post('https://api.blockcypher.com/v1/eth/main/addrs').json()\n",
    "    \n",
    "    return db.user.insert_one(user)"
   ]
  },
  {
   "cell_type": "code",
   "execution_count": 134,
   "metadata": {},
   "outputs": [],
   "source": [
    "def update(_id,field, upd):\n",
    "    if field == 'eth_addr':\n",
    "        if validation.is_0x_prefixed(upd) and validation.is_address(upd) and len(upd) == 42:\n",
    "            return db.user.update({'id':_id},{'$set':{'eth_addr': upd}})\n",
    "    if field == 'email':\n",
    "        if re.match(r\"[^@]+@[^@]+\\.[^@]+\", upd):\n",
    "            return db.user.update({'id':_id},{'$set':{'email': upd}})\n",
    "    if field == 'phone':\n",
    "        try:\n",
    "            if is_possible_number(parse('+11235125520')):\n",
    "                return db.user.update({'id':_id},{'$set':{'phone': upd}})\n",
    "            else:\n",
    "                return False\n",
    "        except:\n",
    "            return False"
   ]
  },
  {
   "cell_type": "code",
   "execution_count": 132,
   "metadata": {},
   "outputs": [
    {
     "data": {
      "text/plain": [
       "True"
      ]
     },
     "execution_count": 132,
     "metadata": {},
     "output_type": "execute_result"
    }
   ],
   "source": [
    "is_possible_number(parse('+11235125520'))"
   ]
  },
  {
   "cell_type": "code",
   "execution_count": null,
   "metadata": {},
   "outputs": [],
   "source": []
  }
 ],
 "metadata": {
  "kernelspec": {
   "display_name": "Python 3",
   "language": "python",
   "name": "python3"
  },
  "language_info": {
   "codemirror_mode": {
    "name": "ipython",
    "version": 3
   },
   "file_extension": ".py",
   "mimetype": "text/x-python",
   "name": "python",
   "nbconvert_exporter": "python",
   "pygments_lexer": "ipython3",
   "version": "3.5.2"
  }
 },
 "nbformat": 4,
 "nbformat_minor": 2
}
